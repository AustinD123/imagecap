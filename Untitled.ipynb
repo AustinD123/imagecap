{
 "cells": [
  {
   "cell_type": "code",
   "execution_count": 1,
   "id": "67dfd61f-e736-484e-8e53-74a705887c70",
   "metadata": {},
   "outputs": [],
   "source": [
    "import torch\n",
    "import pandas as pd\n",
    "import os as os\n",
    "import numpy as np"
   ]
  },
  {
   "cell_type": "code",
   "execution_count": 2,
   "id": "bb723cb9-9749-4b91-be03-eb9c302d09a0",
   "metadata": {},
   "outputs": [],
   "source": [
    "image_path=r\"C:\\Users\\austi\\Downloads\\Flickr8k_Dataset\\Flicker8k_Dataset\"\n",
    "captions_path=r\"C:\\Users\\austi\\Downloads\\Flickr8k_text\\Flickr8k.lemma.token.txt\"\n",
    "df = pd.read_csv(captions_path, sep='\\t', header=None)  "
   ]
  },
  {
   "cell_type": "code",
   "execution_count": 3,
   "id": "58133e4f-4ebb-4f3b-a787-9d9bae545718",
   "metadata": {},
   "outputs": [],
   "source": [
    "df[['image_filename', 'caption_id']] = df[0].str.split('#', expand=True)\n",
    "\n",
    "df = df.drop(columns=[0])\n",
    "\n",
    "df.columns = ['caption', 'image_filename', 'caption_id']"
   ]
  },
  {
   "cell_type": "code",
   "execution_count": 4,
   "id": "83ff356d-b5b2-408f-8e6b-0145d66cc0d2",
   "metadata": {},
   "outputs": [
    {
     "data": {
      "text/html": [
       "<div>\n",
       "<style scoped>\n",
       "    .dataframe tbody tr th:only-of-type {\n",
       "        vertical-align: middle;\n",
       "    }\n",
       "\n",
       "    .dataframe tbody tr th {\n",
       "        vertical-align: top;\n",
       "    }\n",
       "\n",
       "    .dataframe thead th {\n",
       "        text-align: right;\n",
       "    }\n",
       "</style>\n",
       "<table border=\"1\" class=\"dataframe\">\n",
       "  <thead>\n",
       "    <tr style=\"text-align: right;\">\n",
       "      <th></th>\n",
       "      <th>caption</th>\n",
       "      <th>image_filename</th>\n",
       "      <th>caption_id</th>\n",
       "    </tr>\n",
       "  </thead>\n",
       "  <tbody>\n",
       "    <tr>\n",
       "      <th>0</th>\n",
       "      <td>A man in street racer armor be examine the tir...</td>\n",
       "      <td>1305564994_00513f9a5b.jpg</td>\n",
       "      <td>0</td>\n",
       "    </tr>\n",
       "    <tr>\n",
       "      <th>1</th>\n",
       "      <td>Two racer drive a white bike down a road .</td>\n",
       "      <td>1305564994_00513f9a5b.jpg</td>\n",
       "      <td>1</td>\n",
       "    </tr>\n",
       "    <tr>\n",
       "      <th>2</th>\n",
       "      <td>Two motorist be ride along on their vehicle th...</td>\n",
       "      <td>1305564994_00513f9a5b.jpg</td>\n",
       "      <td>2</td>\n",
       "    </tr>\n",
       "    <tr>\n",
       "      <th>3</th>\n",
       "      <td>Two person be in a small race car drive by a g...</td>\n",
       "      <td>1305564994_00513f9a5b.jpg</td>\n",
       "      <td>3</td>\n",
       "    </tr>\n",
       "    <tr>\n",
       "      <th>4</th>\n",
       "      <td>Two person in race uniform in a street car .</td>\n",
       "      <td>1305564994_00513f9a5b.jpg</td>\n",
       "      <td>4</td>\n",
       "    </tr>\n",
       "    <tr>\n",
       "      <th>...</th>\n",
       "      <td>...</td>\n",
       "      <td>...</td>\n",
       "      <td>...</td>\n",
       "    </tr>\n",
       "    <tr>\n",
       "      <th>40455</th>\n",
       "      <td>A girl in a pool wear goggles and surround by ...</td>\n",
       "      <td>989754491_7e53fb4586.jpg</td>\n",
       "      <td>0</td>\n",
       "    </tr>\n",
       "    <tr>\n",
       "      <th>40456</th>\n",
       "      <td>A girl in green goggles in a pool with three o...</td>\n",
       "      <td>989754491_7e53fb4586.jpg</td>\n",
       "      <td>1</td>\n",
       "    </tr>\n",
       "    <tr>\n",
       "      <th>40457</th>\n",
       "      <td>A red haired girl make a peace sign be wear ne...</td>\n",
       "      <td>989754491_7e53fb4586.jpg</td>\n",
       "      <td>2</td>\n",
       "    </tr>\n",
       "    <tr>\n",
       "      <th>40458</th>\n",
       "      <td>A redheaded girl offer a peace sign as she swi...</td>\n",
       "      <td>989754491_7e53fb4586.jpg</td>\n",
       "      <td>3</td>\n",
       "    </tr>\n",
       "    <tr>\n",
       "      <th>40459</th>\n",
       "      <td>A young girl with goggles and floaties pose fo...</td>\n",
       "      <td>989754491_7e53fb4586.jpg</td>\n",
       "      <td>4</td>\n",
       "    </tr>\n",
       "  </tbody>\n",
       "</table>\n",
       "<p>40460 rows × 3 columns</p>\n",
       "</div>"
      ],
      "text/plain": [
       "                                                 caption  \\\n",
       "0      A man in street racer armor be examine the tir...   \n",
       "1             Two racer drive a white bike down a road .   \n",
       "2      Two motorist be ride along on their vehicle th...   \n",
       "3      Two person be in a small race car drive by a g...   \n",
       "4           Two person in race uniform in a street car .   \n",
       "...                                                  ...   \n",
       "40455  A girl in a pool wear goggles and surround by ...   \n",
       "40456  A girl in green goggles in a pool with three o...   \n",
       "40457  A red haired girl make a peace sign be wear ne...   \n",
       "40458  A redheaded girl offer a peace sign as she swi...   \n",
       "40459  A young girl with goggles and floaties pose fo...   \n",
       "\n",
       "                  image_filename caption_id  \n",
       "0      1305564994_00513f9a5b.jpg          0  \n",
       "1      1305564994_00513f9a5b.jpg          1  \n",
       "2      1305564994_00513f9a5b.jpg          2  \n",
       "3      1305564994_00513f9a5b.jpg          3  \n",
       "4      1305564994_00513f9a5b.jpg          4  \n",
       "...                          ...        ...  \n",
       "40455   989754491_7e53fb4586.jpg          0  \n",
       "40456   989754491_7e53fb4586.jpg          1  \n",
       "40457   989754491_7e53fb4586.jpg          2  \n",
       "40458   989754491_7e53fb4586.jpg          3  \n",
       "40459   989754491_7e53fb4586.jpg          4  \n",
       "\n",
       "[40460 rows x 3 columns]"
      ]
     },
     "execution_count": 4,
     "metadata": {},
     "output_type": "execute_result"
    }
   ],
   "source": [
    "df"
   ]
  },
  {
   "cell_type": "code",
   "execution_count": 5,
   "id": "004e685c-e8a6-41ba-86c1-75efd60e1438",
   "metadata": {},
   "outputs": [],
   "source": [
    "import torch\n",
    "import pandas as pd\n",
    "import os\n",
    "from PIL import Image\n",
    "\n",
    "from torchvision import transforms\n",
    "from transformers import BertTokenizer\n",
    "from torch.utils.data import DataLoader, Subset\n",
    "\n",
    "class data_loader:\n",
    "    def __init__(self,images_path,captions_path,tokenizer,transform=None):\n",
    "        self.images_path=images_path\n",
    "        self.captions_path=captions_path\n",
    "        self.tokenizer=tokenizer\n",
    "        self.transform=transform\n",
    "        self.df = pd.read_csv(captions_path, sep='\\t', header=None)  \n",
    "        self.df[['image_filename', 'caption_id']] = self.df[0].str.split('#', expand=True)\n",
    "        self.df = self.df.drop(columns=[0])\n",
    "        self.df.columns = ['caption', 'image_filename', 'caption_id']\n",
    "    def __getitem__(self,idx):\n",
    "        self.image_name=self.df[\"image_filename\"][idx]\n",
    "        self.caption_id=self.df[\"caption_id\"][idx]\n",
    "        self.img_path=f\"{self.images_path}\\\\{self.image_name}\"\n",
    "        self.image=Image.open(self.img_path).convert(\"RGB\")\n",
    "        self.caption=self.df[\"caption\"][idx]\n",
    "        if self.transform is not None:\n",
    "            image = self.transform(self.image)\n",
    "\n",
    "        caption_tokens = self.tokenizer(self.caption, padding='max_length', max_length=30, truncation=True, return_tensors=\"pt\")\n",
    "        caption_tensor = caption_tokens['input_ids'].squeeze() \n",
    "\n",
    "        return image, caption_tensor\n",
    "    \n",
    "def custom_collate_fn(batch):\n",
    "    images, captions = zip(*batch)\n",
    "    images = torch.stack(images, dim=0)\n",
    "    captions = torch.nn.utils.rnn.pad_sequence(captions, batch_first=True, padding_value=0)\n",
    "    return images, captions\n",
    "\n",
    "transform = transforms.Compose([\n",
    "    transforms.Resize((224, 224)),\n",
    "    transforms.ToTensor(),\n",
    "])\n",
    "tokenizer = BertTokenizer.from_pretrained('bert-base-uncased')\n",
    "\n",
    "\n",
    "images_path=r\"C:\\Users\\austi\\Downloads\\Flickr8k_Dataset\\Flicker8k_Dataset\"\n",
    "captions_path=r\"C:\\Users\\austi\\Downloads\\Flickr8k_text\\Flickr8k.lemma.token.txt\"\n",
    "dataset = data_loader(images_path=images_path, captions_path=captions_path, tokenizer=tokenizer, transform=transform)"
   ]
  },
  {
   "cell_type": "code",
   "execution_count": 6,
   "id": "70631619-c6e7-4f63-bda9-8a6458879ec6",
   "metadata": {},
   "outputs": [
    {
     "name": "stdout",
     "output_type": "stream",
     "text": [
      "Torch version: 0.21.0+cu118\n"
     ]
    }
   ],
   "source": [
    "import torchvision\n",
    "\n",
    "print(\"Torch version:\", torchvision.__version__)\n"
   ]
  },
  {
   "cell_type": "code",
   "execution_count": 7,
   "id": "c9a7c8c0-6214-48aa-a11b-86dd1e05ed96",
   "metadata": {},
   "outputs": [
    {
     "name": "stdout",
     "output_type": "stream",
     "text": [
      "C:\\Users\\austi\\AppData\\Local\\Programs\\Python\\Python313\\python.exe\n"
     ]
    }
   ],
   "source": [
    "import sys\n",
    "print(sys.executable)\n"
   ]
  },
  {
   "cell_type": "code",
   "execution_count": null,
   "id": "da4e3c98-373a-4c7b-a732-4768620821b2",
   "metadata": {},
   "outputs": [],
   "source": [
    "from IPython.display import Image, display\n",
    "\n",
    "for _, row in df.iloc[-1].iterrows():\n",
    "    print(row[\"caption\"])\n",
    "    display(Image(filename=f\"{images_path}\\\\{row['image_filename']}\"))\n"
   ]
  },
  {
   "cell_type": "code",
   "execution_count": 12,
   "id": "32a4e554-d376-4603-a7e0-3cbd04f515bf",
   "metadata": {},
   "outputs": [
    {
     "name": "stdout",
     "output_type": "stream",
     "text": [
      "person wait for a subway\n",
      "Some person look out window in a large building .\n",
      "Three person be wait on a train platform .\n",
      "Three person stand at a station .\n",
      "two woman and one man stand near train track .\n"
     ]
    }
   ],
   "source": [
    "rows_to_drop = []\n",
    "\n",
    "for i, row in df.iterrows():\n",
    "    if not os.path.exists(f\"{images_path}\\\\{row['image_filename']}\"):\n",
    "        print(row[\"caption\"])\n",
    "        rows_to_drop.append(i)"
   ]
  },
  {
   "cell_type": "code",
   "execution_count": 13,
   "id": "5aad6043-fd6d-4c7e-ba67-44314a648c1b",
   "metadata": {},
   "outputs": [],
   "source": [
    "df=df.drop(rows_to_drop)"
   ]
  },
  {
   "cell_type": "code",
   "execution_count": 17,
   "id": "2dac6c3a-e5da-4455-a839-efc6c3594d70",
   "metadata": {},
   "outputs": [
    {
     "data": {
      "application/vnd.jupyter.widget-view+json": {
       "model_id": "ebc86f0c1e2c4cd9a16af720ba606c39",
       "version_major": 2,
       "version_minor": 0
      },
      "text/plain": [
       "preprocessor_config.json:   0%|          | 0.00/160 [00:00<?, ?B/s]"
      ]
     },
     "metadata": {},
     "output_type": "display_data"
    },
    {
     "name": "stderr",
     "output_type": "stream",
     "text": [
      "C:\\Users\\austi\\AppData\\Local\\Programs\\Python\\Python313\\Lib\\site-packages\\huggingface_hub\\file_download.py:142: UserWarning: `huggingface_hub` cache-system uses symlinks by default to efficiently store duplicated files but your machine does not support them in C:\\Users\\austi\\.cache\\huggingface\\hub\\models--google--vit-base-patch16-224-in21k. Caching files will still work but in a degraded version that might require more space on your disk. This warning can be disabled by setting the `HF_HUB_DISABLE_SYMLINKS_WARNING` environment variable. For more details, see https://huggingface.co/docs/huggingface_hub/how-to-cache#limitations.\n",
      "To support symlinks on Windows, you either need to activate Developer Mode or to run Python as an administrator. In order to activate developer mode, see this article: https://docs.microsoft.com/en-us/windows/apps/get-started/enable-your-device-for-development\n",
      "  warnings.warn(message)\n",
      "C:\\Users\\austi\\AppData\\Local\\Programs\\Python\\Python313\\Lib\\site-packages\\transformers\\models\\vit\\feature_extraction_vit.py:28: FutureWarning: The class ViTFeatureExtractor is deprecated and will be removed in version 5 of Transformers. Please use ViTImageProcessor instead.\n",
      "  warnings.warn(\n"
     ]
    },
    {
     "data": {
      "application/vnd.jupyter.widget-view+json": {
       "model_id": "584ec59f87174ef8ae4e15b228aec0ee",
       "version_major": 2,
       "version_minor": 0
      },
      "text/plain": [
       "config.json:   0%|          | 0.00/502 [00:00<?, ?B/s]"
      ]
     },
     "metadata": {},
     "output_type": "display_data"
    },
    {
     "data": {
      "application/vnd.jupyter.widget-view+json": {
       "model_id": "c249fe0c2c41470db93e649cd45ad4be",
       "version_major": 2,
       "version_minor": 0
      },
      "text/plain": [
       "model.safetensors:   0%|          | 0.00/346M [00:00<?, ?B/s]"
      ]
     },
     "metadata": {},
     "output_type": "display_data"
    }
   ],
   "source": [
    "from transformers import ViTFeatureExtractor, ViTModel\n",
    "from PIL import Image\n",
    "import requests\n",
    "\n",
    "url = 'http://images.cocodataset.org/val2017/000000039769.jpg'\n",
    "image = Image.open(requests.get(url, stream=True).raw)\n",
    "\n",
    "feature_extractor = ViTFeatureExtractor.from_pretrained('google/vit-base-patch16-224-in21k')\n",
    "model = ViTModel.from_pretrained('google/vit-base-patch16-224-in21k')\n",
    "\n",
    "inputs = feature_extractor(images=image, return_tensors=\"pt\")\n",
    "outputs = model(**inputs)\n",
    "last_hidden_states = outputs.last_hidden_state,"
   ]
  },
  {
   "cell_type": "code",
   "execution_count": 34,
   "id": "4d9fc5ec-2dc9-4ffc-a722-871538d200e8",
   "metadata": {},
   "outputs": [
    {
     "ename": "KeyError",
     "evalue": "'pixel-values'",
     "output_type": "error",
     "traceback": [
      "\u001b[31m---------------------------------------------------------------------------\u001b[39m",
      "\u001b[31mKeyError\u001b[39m                                  Traceback (most recent call last)",
      "\u001b[36mCell\u001b[39m\u001b[36m \u001b[39m\u001b[32mIn[34]\u001b[39m\u001b[32m, line 1\u001b[39m\n\u001b[32m----> \u001b[39m\u001b[32m1\u001b[39m \u001b[43minputs\u001b[49m\u001b[43m[\u001b[49m\u001b[33;43m\"\u001b[39;49m\u001b[33;43mpixel-values\u001b[39;49m\u001b[33;43m\"\u001b[39;49m\u001b[43m]\u001b[49m\n",
      "\u001b[36mFile \u001b[39m\u001b[32m~\\AppData\\Local\\Programs\\Python\\Python313\\Lib\\site-packages\\transformers\\feature_extraction_utils.py:87\u001b[39m, in \u001b[36mBatchFeature.__getitem__\u001b[39m\u001b[34m(self, item)\u001b[39m\n\u001b[32m     82\u001b[39m \u001b[38;5;250m\u001b[39m\u001b[33;03m\"\"\"\u001b[39;00m\n\u001b[32m     83\u001b[39m \u001b[33;03mIf the key is a string, returns the value of the dict associated to `key` ('input_values', 'attention_mask',\u001b[39;00m\n\u001b[32m     84\u001b[39m \u001b[33;03metc.).\u001b[39;00m\n\u001b[32m     85\u001b[39m \u001b[33;03m\"\"\"\u001b[39;00m\n\u001b[32m     86\u001b[39m \u001b[38;5;28;01mif\u001b[39;00m \u001b[38;5;28misinstance\u001b[39m(item, \u001b[38;5;28mstr\u001b[39m):\n\u001b[32m---> \u001b[39m\u001b[32m87\u001b[39m     \u001b[38;5;28;01mreturn\u001b[39;00m \u001b[38;5;28;43mself\u001b[39;49m\u001b[43m.\u001b[49m\u001b[43mdata\u001b[49m\u001b[43m[\u001b[49m\u001b[43mitem\u001b[49m\u001b[43m]\u001b[49m\n\u001b[32m     88\u001b[39m \u001b[38;5;28;01melse\u001b[39;00m:\n\u001b[32m     89\u001b[39m     \u001b[38;5;28;01mraise\u001b[39;00m \u001b[38;5;167;01mKeyError\u001b[39;00m(\u001b[33m\"\u001b[39m\u001b[33mIndexing with integers is not available when using Python based feature extractors\u001b[39m\u001b[33m\"\u001b[39m)\n",
      "\u001b[31mKeyError\u001b[39m: 'pixel-values'"
     ]
    }
   ],
   "source": [
    "inputs[\"pixel-values\"]"
   ]
  },
  {
   "cell_type": "code",
   "execution_count": null,
   "id": "04df62ed-576d-4d4e-952e-1e76dc03d817",
   "metadata": {},
   "outputs": [],
   "source": []
  }
 ],
 "metadata": {
  "kernelspec": {
   "display_name": "Python 3 (ipykernel)",
   "language": "python",
   "name": "python3"
  },
  "language_info": {
   "codemirror_mode": {
    "name": "ipython",
    "version": 3
   },
   "file_extension": ".py",
   "mimetype": "text/x-python",
   "name": "python",
   "nbconvert_exporter": "python",
   "pygments_lexer": "ipython3",
   "version": "3.13.1"
  }
 },
 "nbformat": 4,
 "nbformat_minor": 5
}
